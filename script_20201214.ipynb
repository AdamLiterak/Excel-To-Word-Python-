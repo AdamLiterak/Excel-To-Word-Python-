{
 "cells": [
  {
   "cell_type": "code",
   "execution_count": 7,
   "metadata": {},
   "outputs": [],
   "source": [
    "import pandas as pd\n",
    "import numpy as np\n",
    "import xlrd\n",
    "from docx import Document\n",
    "from docx.shared import Inches"
   ]
  },
  {
   "cell_type": "code",
   "execution_count": 31,
   "metadata": {},
   "outputs": [],
   "source": [
    "path = \"excel.xlsx\""
   ]
  },
  {
   "cell_type": "code",
   "execution_count": 32,
   "metadata": {},
   "outputs": [],
   "source": [
    "#values from the file load\n",
    "values_data = pd.read_excel(path, sheet_name=\"cfo_report_values\", usecols=\"A:B\", nrows=200)\n",
    "comments_data = pd.read_excel(path, sheet_name=\"cfo_report_comments_long\", usecols=\"A:B\", nrows=100)"
   ]
  },
  {
   "cell_type": "code",
   "execution_count": 33,
   "metadata": {},
   "outputs": [],
   "source": [
    "values_data[\"value\"] *= 100"
   ]
  },
  {
   "cell_type": "code",
   "execution_count": 34,
   "metadata": {},
   "outputs": [],
   "source": [
    "d1 = dict(values_data.values.tolist())\n",
    "d2 = dict(comments_data.values.tolist())"
   ]
  },
  {
   "cell_type": "code",
   "execution_count": 35,
   "metadata": {},
   "outputs": [
    {
     "data": {
      "text/plain": [
       "<docx.text.run.Run at 0x2534a3f2c48>"
      ]
     },
     "execution_count": 35,
     "metadata": {},
     "output_type": "execute_result"
    }
   ],
   "source": [
    "#creating the text with the numbers\n",
    "#MTD vs PY\n",
    "document = Document()\n",
    "document.add_heading(\"MTD vs PY\")\n",
    "#total discount\n",
    "p = document.add_paragraph()\n",
    "p.add_run('Total Discounts % GSR: ').bold = True\n",
    "p.add_run('{:.1f}'.format(d1['mtd_actuals_ded'])+'% ').bold = True\n",
    "p.add_run('(CZ: {:.1f}'.format(d1['mtd_actuals_ded_cz'])+'%, SK: {:.1f}'.format(d1['mtd_actuals_ded_sk'])+'%), ')\n",
    "p.add_run('{:.1f}'.format(d1['mtd_diff_actuals_py_ded'])+'pp vs PY. ').bold = True\n",
    "p.add_run('{}'.format(d2['mtdpy_pmix']) + ' {}'.format(d2['mtdpy_ded']))\n",
    "#PROMO mtd_py_prm mtdpy_prs_cmnt_1\n",
    "p1 = document.add_paragraph()\n",
    "r1 = p1.add_run('Promo % GSR: ')\n",
    "r1.bold = True\n",
    "r1.italic = True\n",
    "p1.add_run('{:.1f}'.format(d1['mtd_actuals_prm'])+'% ').bold = True\n",
    "p1.add_run('(CZ: {:.1f}'.format(d1['mtd_actuals_prm_cz'])+'%, SK: {:.1f}'.format(d1['mtd_actuals_prm_sk'])+'%), ')\n",
    "p1.add_run('{:.1f}'.format(d1['mtd_diff_actuals_py_prm'])+'pp vs PY. ').bold = True\n",
    "p1.add_run('Promo Pressure amounts to {:.1f}'.format(d1['mtd_actuals_prs'])+'%, {:.1f}'.format(d1['mtd_diff_actuals_py_prs'])+'pp vs PY. ')\n",
    "p1.add_run('{}'.format(d2['mtdpy_prs'])+ ' {}'.format(d2['mtdpy_dpt']))\n",
    "#UNCONDITIONAL\n",
    "p2 = document.add_paragraph()\n",
    "r2 = p2.add_run('Unconditional % GSR: ')\n",
    "r2.bold = True\n",
    "r2.italic = True\n",
    "p2.add_run('{:.1f}'.format(d1['mtd_actuals_unc'])+'% ').bold = True\n",
    "p2.add_run('(CZ: {:.1f}'.format(d1['mtd_actuals_unc_cz'])+'%, SK: {:.1f}'.format(d1['mtd_actuals_unc_sk'])+'%), ')\n",
    "p2.add_run('{:.1f}'.format(d1['mtd_diff_actuals_py_unc'])+'pp vs PY. ').bold = True\n",
    "p2.add_run('{}'.format(d2['mtdpy_unc']))\n",
    "#PFP\n",
    "p3 = document.add_paragraph()\n",
    "r3 = p3.add_run('PfP % GSR: ')\n",
    "r3.bold = True\n",
    "r3.italic = True\n",
    "p3.add_run('{:.1f}'.format(d1['mtd_actuals_pfp'])+'% ').bold = True\n",
    "p3.add_run('(CZ: {:.1f}'.format(d1['mtd_actuals_pfp_cz'])+'%, SK: {:.1f}'.format(d1['mtd_actuals_pfp_sk'])+'%), ')\n",
    "p3.add_run('{:.1f}'.format(d1['mtd_diff_actuals_py_pfp'])+'pp vs PY. ').bold = True\n",
    "p3.add_run('{}'.format(d2['mtdpy_pfp']))\n",
    "#DRIFT\n",
    "p4 = document.add_paragraph()\n",
    "r4 = p4.add_run('Drift % GSR: ')\n",
    "r4.bold = True\n",
    "r4.italic = True\n",
    "p4.add_run('{:.1f}'.format(d1['mtd_actuals_drf'])+'% ').bold = True\n",
    "p4.add_run('(CZ: {:.1f}'.format(d1['mtd_actuals_drf_cz'])+'%, SK: {:.1f}'.format(d1['mtd_actuals_drf_sk'])+'%), ')\n",
    "p4.add_run('{:.1f}'.format(d1['mtd_diff_actuals_py_drf'])+'pp vs PY. ').bold = True\n",
    "#SUMUP\n",
    "p5 = document.add_paragraph()\n",
    "p5.add_run('{}'.format(d2['mtdpy_final']))"
   ]
  },
  {
   "cell_type": "code",
   "execution_count": 36,
   "metadata": {},
   "outputs": [
    {
     "data": {
      "text/plain": [
       "<docx.text.run.Run at 0x2534a205408>"
      ]
     },
     "execution_count": 36,
     "metadata": {},
     "output_type": "execute_result"
    }
   ],
   "source": [
    "#MTD vs RE\n",
    "document.add_heading(\"MTD vs RE\")\n",
    "#total discount\n",
    "p6 = document.add_paragraph()\n",
    "p6.add_run('Total Discounts % GSR: ').bold = True\n",
    "p6.add_run('{:.1f}'.format(d1['mtd_actuals_ded'])+'% ').bold = True\n",
    "p6.add_run('(CZ: {:.1f}'.format(d1['mtd_actuals_ded_cz'])+'%, SK: {:.1f}'.format(d1['mtd_actuals_ded_sk'])+'%), ')\n",
    "p6.add_run('{:.1f}'.format(d1['mtd_diff_actuals_re_ded'])+'pp vs RE. ').bold = True\n",
    "p6.add_run('{}'.format(d2['mtdre_pmix']) + ' {}'.format(d2['mtdre_ded']))\n",
    "#PROMO mtd_py_prm mtdpy_prs_cmnt_1\n",
    "p7 = document.add_paragraph()\n",
    "r7 = p7.add_run('Promo % GSR: ')\n",
    "r7.bold = True\n",
    "r7.italic = True\n",
    "p7.add_run('{:.1f}'.format(d1['mtd_actuals_prm'])+'% ').bold = True\n",
    "p7.add_run('(CZ: {:.1f}'.format(d1['mtd_actuals_prm_cz'])+'%, SK: {:.1f}'.format(d1['mtd_actuals_prm_sk'])+'%), ')\n",
    "p7.add_run('{:.1f}'.format(d1['mtd_diff_actuals_re_prm'])+'pp vs RE. ').bold = True\n",
    "p7.add_run('Promo Pressure amounts to {:.1f}'.format(d1['mtd_actuals_prs'])+'%, {:.1f}'.format(d1['mtd_diff_actuals_re_prs'])+'pp vs RE. ')\n",
    "p7.add_run('{}'.format(d2['mtdre_prs'])+ ' {}'.format(d2['mtdre_dpt']))\n",
    "#UNCONDITIONAL\n",
    "p8 = document.add_paragraph()\n",
    "r8 = p8.add_run('Unconditional % GSR: ')\n",
    "r8.bold = True\n",
    "r8.italic = True\n",
    "p8.add_run('{:.1f}'.format(d1['mtd_actuals_unc'])+'% ').bold = True\n",
    "p8.add_run('(CZ: {:.1f}'.format(d1['mtd_actuals_unc_cz'])+'%, SK: {:.1f}'.format(d1['mtd_actuals_unc_sk'])+'%), ')\n",
    "p8.add_run('{:.1f}'.format(d1['mtd_diff_actuals_re_unc'])+'pp vs RE. ').bold = True\n",
    "p8.add_run('{}'.format(d2['mtdre_unc']))\n",
    "#PFP\n",
    "p9 = document.add_paragraph()\n",
    "r9 = p9.add_run('PfP % GSR: ')\n",
    "r9.bold = True\n",
    "r9.italic = True\n",
    "p9.add_run('{:.1f}'.format(d1['mtd_actuals_pfp'])+'% ').bold = True\n",
    "p9.add_run('(CZ: {:.1f}'.format(d1['mtd_actuals_pfp_cz'])+'%, SK: {:.1f}'.format(d1['mtd_actuals_pfp_sk'])+'%), ')\n",
    "p9.add_run('{:.1f}'.format(d1['mtd_diff_actuals_re_pfp'])+'pp vs RE. ').bold = True\n",
    "p9.add_run('{}'.format(d2['mtdre_pfp']))\n",
    "#DRIFT\n",
    "p10 = document.add_paragraph()\n",
    "r10 = p10.add_run('Drift % GSR: ')\n",
    "r10.bold = True\n",
    "r10.italic = True\n",
    "p10.add_run('{:.1f}'.format(d1['mtd_actuals_drf'])+'% ').bold = True\n",
    "p10.add_run('(CZ: {:.1f}'.format(d1['mtd_actuals_drf_cz'])+'%, SK: {:.1f}'.format(d1['mtd_actuals_drf_sk'])+'%), ')\n",
    "p10.add_run('{:.1f}'.format(d1['mtd_diff_actuals_re_drf'])+'pp vs RE. ').bold = True\n",
    "#SUMUP\n",
    "p11 = document.add_paragraph()\n",
    "p11.add_run('{}'.format(d2['mtdre_final']))"
   ]
  },
  {
   "cell_type": "code",
   "execution_count": 37,
   "metadata": {},
   "outputs": [
    {
     "data": {
      "text/plain": [
       "<docx.text.run.Run at 0x2534a3cb088>"
      ]
     },
     "execution_count": 37,
     "metadata": {},
     "output_type": "execute_result"
    }
   ],
   "source": [
    "#YTD vs PY\n",
    "document.add_heading(\"YTD vs PY\")\n",
    "#total discount\n",
    "p12 = document.add_paragraph()\n",
    "p12.add_run('Total Discounts % GSR: ').bold = True\n",
    "p12.add_run('{:.1f}'.format(d1['ytd_actuals_ded'])+'% ').bold = True\n",
    "p12.add_run('(CZ: {:.1f}'.format(d1['ytd_actuals_ded_cz'])+'%, SK: {:.1f}'.format(d1['ytd_actuals_ded_sk'])+'%), ')\n",
    "p12.add_run('{:.1f}'.format(d1['ytd_diff_actuals_py_ded'])+'pp vs PY. ').bold = True\n",
    "p12.add_run('{}'.format(d2['ytdpy_pmix']) + ' {}'.format(d2['ytdpy_ded']))\n",
    "#PROMO mtd_py_prm mtdpy_prs_cmnt_1\n",
    "p13 = document.add_paragraph()\n",
    "r13 = p13.add_run('Promo % GSR: ')\n",
    "r13.bold = True\n",
    "r13.italic = True\n",
    "p13.add_run('{:.1f}'.format(d1['ytd_actuals_prm'])+'% ').bold = True\n",
    "p13.add_run('(CZ: {:.1f}'.format(d1['ytd_actuals_prm_cz'])+'%, SK: {:.1f}'.format(d1['ytd_actuals_prm_sk'])+'%), ')\n",
    "p13.add_run('{:.1f}'.format(d1['ytd_diff_actuals_py_prm'])+'pp vs PY. ').bold = True\n",
    "p13.add_run('Promo Pressure amounts to {:.1f}'.format(d1['ytd_actuals_prs'])+'%, {:.1f}'.format(d1['ytd_diff_actuals_py_prs'])+'pp vs PY. ')\n",
    "p13.add_run('{}'.format(d2['ytdpy_prs'])+ ' {}'.format(d2['ytdpy_dpt']))\n",
    "#UNCONDITIONAL\n",
    "p14 = document.add_paragraph()\n",
    "r14 = p14.add_run('Unconditional % GSR: ')\n",
    "r14.bold = True\n",
    "r14.italic = True\n",
    "p14.add_run('{:.1f}'.format(d1['ytd_actuals_unc'])+'% ').bold = True\n",
    "p14.add_run('(CZ: {:.1f}'.format(d1['ytd_actuals_unc_cz'])+'%, SK: {:.1f}'.format(d1['ytd_actuals_unc_sk'])+'%), ')\n",
    "p14.add_run('{:.1f}'.format(d1['ytd_diff_actuals_py_unc'])+'pp vs PY. ').bold = True\n",
    "p14.add_run('{}'.format(d2['ytdpy_unc']))\n",
    "#PFP\n",
    "p15 = document.add_paragraph()\n",
    "r15 = p15.add_run('PfP % GSR: ')\n",
    "r15.bold = True\n",
    "r15.italic = True\n",
    "p15.add_run('{:.1f}'.format(d1['ytd_actuals_pfp'])+'% ').bold = True\n",
    "p15.add_run('(CZ: {:.1f}'.format(d1['ytd_actuals_pfp_cz'])+'%, SK: {:.1f}'.format(d1['ytd_actuals_pfp_sk'])+'%), ')\n",
    "p15.add_run('{:.1f}'.format(d1['ytd_diff_actuals_py_pfp'])+'pp vs PY. ').bold = True\n",
    "p15.add_run('{}'.format(d2['ytdpy_pfp']))\n",
    "#DRIFT\n",
    "p16 = document.add_paragraph()\n",
    "r16 = p16.add_run('Drift % GSR: ')\n",
    "r16.bold = True\n",
    "r16.italic = True\n",
    "p16.add_run('{:.1f}'.format(d1['ytd_actuals_drf'])+'% ').bold = True\n",
    "p16.add_run('(CZ: {:.1f}'.format(d1['ytd_actuals_drf_cz'])+'%, SK: {:.1f}'.format(d1['ytd_actuals_drf_sk'])+'%), ')\n",
    "p16.add_run('{:.1f}'.format(d1['ytd_diff_actuals_py_drf'])+'pp vs PY. ').bold = True\n",
    "#SUMUP\n",
    "p17 = document.add_paragraph()\n",
    "p17.add_run('{}'.format(d2['ytdpy_final']))"
   ]
  },
  {
   "cell_type": "code",
   "execution_count": 39,
   "metadata": {},
   "outputs": [],
   "source": [
    "document.save('report.docx')"
   ]
  },
  {
   "cell_type": "code",
   "execution_count": null,
   "metadata": {},
   "outputs": [],
   "source": []
  }
 ],
 "metadata": {
  "kernelspec": {
   "display_name": "Python 3",
   "language": "python",
   "name": "python3"
  },
  "language_info": {
   "codemirror_mode": {
    "name": "ipython",
    "version": 3
   },
   "file_extension": ".py",
   "mimetype": "text/x-python",
   "name": "python",
   "nbconvert_exporter": "python",
   "pygments_lexer": "ipython3",
   "version": "3.7.6"
  }
 },
 "nbformat": 4,
 "nbformat_minor": 4
}
